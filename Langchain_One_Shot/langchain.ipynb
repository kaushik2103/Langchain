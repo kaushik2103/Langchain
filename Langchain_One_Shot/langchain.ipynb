{
 "cells": [
  {
   "cell_type": "code",
   "outputs": [],
   "source": [
    "from langchain.llms import OpenAI"
   ],
   "metadata": {
    "collapsed": false,
    "ExecuteTime": {
     "end_time": "2024-02-14T07:37:00.986077Z",
     "start_time": "2024-02-14T07:37:00.970026500Z"
    }
   },
   "id": "a6485e23eaeb3523",
   "execution_count": 30
  },
  {
   "cell_type": "code",
   "outputs": [
    {
     "ename": "ImportError",
     "evalue": "cannot import name 'HUGGINGFACE_KEY' from 'constant' (D:\\Machine_Learning\\Langchain\\Langchain_One_Shot\\constant.py)",
     "output_type": "error",
     "traceback": [
      "\u001B[1;31m---------------------------------------------------------------------------\u001B[0m",
      "\u001B[1;31mImportError\u001B[0m                               Traceback (most recent call last)",
      "Cell \u001B[1;32mIn[40], line 2\u001B[0m\n\u001B[0;32m      1\u001B[0m \u001B[38;5;28;01mimport\u001B[39;00m \u001B[38;5;21;01mos\u001B[39;00m\n\u001B[1;32m----> 2\u001B[0m \u001B[38;5;28;01mfrom\u001B[39;00m \u001B[38;5;21;01mconstant\u001B[39;00m \u001B[38;5;28;01mimport\u001B[39;00m OPENAI_KEY, HUGGINGFACE_KEY\n\u001B[0;32m      4\u001B[0m os\u001B[38;5;241m.\u001B[39menviron[\u001B[38;5;124m\"\u001B[39m\u001B[38;5;124mOPENAI_API_KEY\u001B[39m\u001B[38;5;124m\"\u001B[39m] \u001B[38;5;241m=\u001B[39m OPENAI_KEY\n\u001B[0;32m      5\u001B[0m os\u001B[38;5;241m.\u001B[39menviron[\u001B[38;5;124m\"\u001B[39m\u001B[38;5;124mHUGGINGFACEHUB_API_TOKEN\u001B[39m\u001B[38;5;124m\"\u001B[39m] \u001B[38;5;241m=\u001B[39m HUGGINGFACE_KEY\n",
      "\u001B[1;31mImportError\u001B[0m: cannot import name 'HUGGINGFACE_KEY' from 'constant' (D:\\Machine_Learning\\Langchain\\Langchain_One_Shot\\constant.py)"
     ]
    }
   ],
   "source": [
    "import os\n",
    "from constant import OPENAI_KEY\n",
    "\n",
    "os.environ[\"OPENAI_API_KEY\"] = OPENAI_KEY"
   ],
   "metadata": {
    "collapsed": false,
    "ExecuteTime": {
     "end_time": "2024-02-14T07:53:17.245356500Z",
     "start_time": "2024-02-14T07:53:17.229980500Z"
    }
   },
   "id": "91b7aea1541fb7b8",
   "execution_count": 40
  },
  {
   "cell_type": "code",
   "outputs": [],
   "source": [
    "llm = OpenAI(temperature=0.6)"
   ],
   "metadata": {
    "collapsed": false,
    "ExecuteTime": {
     "end_time": "2024-02-14T07:42:15.048538500Z",
     "start_time": "2024-02-14T07:42:15.024224500Z"
    }
   },
   "id": "179122df63cdd3c0",
   "execution_count": 33
  },
  {
   "cell_type": "code",
   "outputs": [
    {
     "name": "stdout",
     "output_type": "stream",
     "text": [
      "\n",
      "\n",
      "The capital of India is New Delhi.\n"
     ]
    }
   ],
   "source": [
    "text = \"What is the capital of India ?\"\n",
    "print(llm.predict(text))"
   ],
   "metadata": {
    "collapsed": false,
    "ExecuteTime": {
     "end_time": "2024-02-14T07:42:17.634074700Z",
     "start_time": "2024-02-14T07:42:16.893914900Z"
    }
   },
   "id": "cdc7c9e46262d544",
   "execution_count": 34
  },
  {
   "cell_type": "code",
   "outputs": [],
   "source": [
    "# Same thing using Hugging Face API"
   ],
   "metadata": {
    "collapsed": false,
    "ExecuteTime": {
     "end_time": "2024-02-14T07:57:15.914004100Z",
     "start_time": "2024-02-14T07:57:15.904916900Z"
    }
   },
   "id": "5e26bf0cd7048aba",
   "execution_count": 51
  },
  {
   "cell_type": "code",
   "outputs": [],
   "source": [
    "os.environ[\"HUGGINGFACEHUB_API_TOKEN\"] = \"\""
   ],
   "metadata": {
    "collapsed": false,
    "ExecuteTime": {
     "end_time": "2024-02-14T07:57:18.621622800Z",
     "start_time": "2024-02-14T07:57:18.603527600Z"
    }
   },
   "id": "89f4f68f7f70e9a3",
   "execution_count": 52
  },
  {
   "cell_type": "code",
   "outputs": [],
   "source": [
    "from langchain import HuggingFaceHub\n",
    "\n",
    "llm_huggingface = HuggingFaceHub(repo_id=\"google/flan-t5-large\", model_kwargs={\"temperature\": 0, \"max_length\": 64})"
   ],
   "metadata": {
    "collapsed": false,
    "ExecuteTime": {
     "end_time": "2024-02-14T08:57:01.152286200Z",
     "start_time": "2024-02-14T08:57:00.754783500Z"
    }
   },
   "id": "c066c84f0eb75cd2",
   "execution_count": 93
  },
  {
   "cell_type": "code",
   "outputs": [
    {
     "name": "stdout",
     "output_type": "stream",
     "text": [
      "Moscow\n"
     ]
    }
   ],
   "source": [
    "output = llm_huggingface.predict(\"What is the capital of russia ?\")\n",
    "print(output)"
   ],
   "metadata": {
    "collapsed": false,
    "ExecuteTime": {
     "end_time": "2024-02-14T08:17:34.112058700Z",
     "start_time": "2024-02-14T08:17:33.585731500Z"
    }
   },
   "id": "35ab1d45de30d56d",
   "execution_count": 74
  },
  {
   "cell_type": "code",
   "outputs": [
    {
     "name": "stdout",
     "output_type": "stream",
     "text": [
      "if you 're a sailor , you 'll be a sailor .\n"
     ]
    }
   ],
   "source": [
    "output = llm_huggingface.predict(\"Tell me joke ?\")\n",
    "print(output)"
   ],
   "metadata": {
    "collapsed": false,
    "ExecuteTime": {
     "end_time": "2024-02-14T08:46:30.783716200Z",
     "start_time": "2024-02-14T08:46:27.857375Z"
    }
   },
   "id": "488d937800bed8df",
   "execution_count": 81
  },
  {
   "cell_type": "code",
   "outputs": [],
   "source": [
    "# Prompt Templates and LLMChain"
   ],
   "metadata": {
    "collapsed": false,
    "ExecuteTime": {
     "end_time": "2024-02-14T09:05:22.262571400Z",
     "start_time": "2024-02-14T09:05:22.248881200Z"
    }
   },
   "id": "725238e602e69266",
   "execution_count": 98
  },
  {
   "cell_type": "code",
   "outputs": [
    {
     "data": {
      "text/plain": "'Tell me the capital of the India'"
     },
     "execution_count": 86,
     "metadata": {},
     "output_type": "execute_result"
    }
   ],
   "source": [
    "from langchain.prompts import PromptTemplate\n",
    "\n",
    "prompt_template = PromptTemplate(\n",
    "    input_variables=[\"Country\"],\n",
    "    template=\"Tell me the capital of the {Country}\"\n",
    ")\n",
    "prompt_template.format(Country=\"India\")"
   ],
   "metadata": {
    "collapsed": false,
    "ExecuteTime": {
     "end_time": "2024-02-14T08:52:02.478152400Z",
     "start_time": "2024-02-14T08:52:02.467608200Z"
    }
   },
   "id": "d0933edff16b942d",
   "execution_count": 86
  },
  {
   "cell_type": "code",
   "outputs": [
    {
     "name": "stdout",
     "output_type": "stream",
     "text": [
      "\n",
      "\n",
      "The capital of India is New Delhi.\n"
     ]
    }
   ],
   "source": [
    "from langchain.chains import LLMChain\n",
    "\n",
    "chain = LLMChain(llm=llm, prompt=prompt_template)\n",
    "print(chain.run(\"India\"))"
   ],
   "metadata": {
    "collapsed": false,
    "ExecuteTime": {
     "end_time": "2024-02-14T08:57:30.828910100Z",
     "start_time": "2024-02-14T08:57:30.115549Z"
    }
   },
   "id": "52d2f395aac8e24b",
   "execution_count": 97
  },
  {
   "cell_type": "code",
   "outputs": [],
   "source": [
    "# Combining multiple chains using Simple Sequential Chains"
   ],
   "metadata": {
    "collapsed": false,
    "ExecuteTime": {
     "end_time": "2024-02-14T09:06:07.206498100Z",
     "start_time": "2024-02-14T09:06:07.194789100Z"
    }
   },
   "id": "1c1bee318d182609",
   "execution_count": 99
  },
  {
   "cell_type": "code",
   "outputs": [
    {
     "name": "stdout",
     "output_type": "stream",
     "text": [
      "\n",
      "\n",
      "The capital of India is New Delhi.\n",
      "\n",
      "\n",
      "1. Taj Mahal, Agra: One of the most iconic and beautiful monuments in the world, the Taj Mahal is a must-visit for anyone traveling to India.\n",
      "\n",
      "2. Kerala Backwaters: A network of interconnected canals, lakes, and lagoons, the Kerala backwaters offer a serene and picturesque experience.\n",
      "\n",
      "3. Goa: Known for its beautiful beaches, vibrant nightlife, and Portuguese influence, Goa is a popular tourist destination in India.\n",
      "\n",
      "4. Ladakh: Located in the northernmost part of India, Ladakh is known for its rugged landscapes, high-altitude lakes, and Buddhist monasteries.\n",
      "\n",
      "5. Jaipur, Rajasthan: Also known as the Pink City, Jaipur is famous for its magnificent forts, palaces, and bustling markets.\n",
      "\n",
      "6. Varanasi, Uttar Pradesh: Considered one of the oldest continuously inhabited cities in the world, Varanasi is a spiritual hub and a major pilgrimage site for Hindus.\n",
      "\n",
      "7. Rishikesh, Uttarakhand: Known as the Yoga Capital of the World, Rishikesh is a popular destination for adventure sports like rafting and bungee jumping, as well as for spiritual retreats.\n",
      "\n",
      "8. Darjeeling, West Bengal: Famous for its tea\n"
     ]
    }
   ],
   "source": [
    "capital_prompt = PromptTemplate(\n",
    "    input_variables=[\"Country\"],\n",
    "    template=\"Tell me the capital of the {Country}\"\n",
    ")\n",
    "capital_chain = LLMChain(llm=llm, prompt=capital_prompt)\n",
    "print(capital_chain.run(\"India\"))\n",
    "\n",
    "famous_template = PromptTemplate(\n",
    "    input_variables=[\"Capital\"],\n",
    "    template=\"Suggest me some amazing places to visit in {Capital}\"\n",
    ")\n",
    "famous_chain = LLMChain(llm=llm, prompt=famous_template)\n",
    "print(famous_chain.run(\"India\"))"
   ],
   "metadata": {
    "collapsed": false,
    "ExecuteTime": {
     "end_time": "2024-02-14T09:11:31.563834800Z",
     "start_time": "2024-02-14T09:11:27.939796300Z"
    }
   },
   "id": "95fa0bd7259587d2",
   "execution_count": 103
  },
  {
   "cell_type": "code",
   "outputs": [
    {
     "name": "stdout",
     "output_type": "stream",
     "text": [
      "\n",
      "\n",
      "\u001B[1m> Entering new SimpleSequentialChain chain...\u001B[0m\n",
      "\u001B[36;1m\u001B[1;3m\n",
      "\n",
      "The capital of Thailand is Bangkok.\u001B[0m\n",
      "\u001B[33;1m\u001B[1;3m Here are some amazing places to visit in Bangkok:\n",
      "\n",
      "1. Grand Palace: This iconic landmark is a must-visit for its stunning architecture and rich history. It was the former residence of the Thai royal family and is now a popular tourist attraction.\n",
      "\n",
      "2. Wat Pho: Also known as the Temple of the Reclining Buddha, Wat Pho is one of the oldest and largest temples in Bangkok. It is famous for its giant gold-plated reclining Buddha statue and traditional Thai massage school.\n",
      "\n",
      "3. Chatuchak Weekend Market: This bustling market is a shopper's paradise, with over 15,000 stalls selling everything from clothing and accessories to home decor and street food. It's a great place to experience the local culture and pick up some unique souvenirs.\n",
      "\n",
      "4. Chao Phraya River: Take a boat ride along the Chao Phraya River to see the city from a different perspective. You can also visit some of the famous temples and landmarks located along the river.\n",
      "\n",
      "5. Khao San Road: Known as the backpacker's hub, Khao San Road is a lively street lined with bars, restaurants, and street vendors. It's a great place to grab a drink, try some local street food, and meet fellow travelers.\n",
      "\n",
      "\u001B[0m\n",
      "\n",
      "\u001B[1m> Finished chain.\u001B[0m\n",
      " Here are some amazing places to visit in Bangkok:\n",
      "\n",
      "1. Grand Palace: This iconic landmark is a must-visit for its stunning architecture and rich history. It was the former residence of the Thai royal family and is now a popular tourist attraction.\n",
      "\n",
      "2. Wat Pho: Also known as the Temple of the Reclining Buddha, Wat Pho is one of the oldest and largest temples in Bangkok. It is famous for its giant gold-plated reclining Buddha statue and traditional Thai massage school.\n",
      "\n",
      "3. Chatuchak Weekend Market: This bustling market is a shopper's paradise, with over 15,000 stalls selling everything from clothing and accessories to home decor and street food. It's a great place to experience the local culture and pick up some unique souvenirs.\n",
      "\n",
      "4. Chao Phraya River: Take a boat ride along the Chao Phraya River to see the city from a different perspective. You can also visit some of the famous temples and landmarks located along the river.\n",
      "\n",
      "5. Khao San Road: Known as the backpacker's hub, Khao San Road is a lively street lined with bars, restaurants, and street vendors. It's a great place to grab a drink, try some local street food, and meet fellow travelers.\n"
     ]
    }
   ],
   "source": [
    "from langchain.chains import SimpleSequentialChain\n",
    "\n",
    "chain = SimpleSequentialChain(chains=[capital_chain, famous_chain], verbose=True)\n",
    "print(chain.run(\"Thailand\"))"
   ],
   "metadata": {
    "collapsed": false,
    "ExecuteTime": {
     "end_time": "2024-02-14T09:14:23.732846700Z",
     "start_time": "2024-02-14T09:14:20.143228100Z"
    }
   },
   "id": "5cedd9e623a3755b",
   "execution_count": 106
  },
  {
   "cell_type": "code",
   "outputs": [],
   "source": [
    "# Sequential Chains with LLMs"
   ],
   "metadata": {
    "collapsed": false,
    "ExecuteTime": {
     "end_time": "2024-02-14T09:15:31.463555400Z",
     "start_time": "2024-02-14T09:15:31.446583200Z"
    }
   },
   "id": "b353770251b66c26",
   "execution_count": 107
  },
  {
   "cell_type": "code",
   "outputs": [
    {
     "name": "stdout",
     "output_type": "stream",
     "text": [
      "\n",
      "\n",
      "The capital of India is New Delhi.\n"
     ]
    }
   ],
   "source": [
    "capital_prompt = PromptTemplate(\n",
    "    input_variables=[\"Country\"],\n",
    "    template=\"Tell me the capital of the {Country}\"\n",
    ")\n",
    "capital_chain = LLMChain(llm=llm, prompt=capital_prompt, output_key=\"Capital\")\n",
    "print(capital_chain.run(\"India\"))\n"
   ],
   "metadata": {
    "collapsed": false,
    "ExecuteTime": {
     "end_time": "2024-02-14T09:16:41.107052600Z",
     "start_time": "2024-02-14T09:16:40.550138Z"
    }
   },
   "id": "701f07293df5bbd5",
   "execution_count": 108
  },
  {
   "cell_type": "code",
   "outputs": [
    {
     "name": "stdout",
     "output_type": "stream",
     "text": [
      "\n",
      "\n",
      "1. Taj Mahal, Agra: One of the seven wonders of the world, Taj Mahal is a must-visit for its stunning architecture and rich history.\n",
      "\n",
      "2. Kerala Backwaters: A network of serene waterways, lakes, and canals, Kerala Backwaters is a popular tourist destination for its peaceful boat rides and scenic beauty.\n",
      "\n",
      "3. Ladakh: Known for its rugged mountains, clear blue skies, and Buddhist monasteries, Ladakh is a dream destination for adventure seekers and nature lovers.\n",
      "\n",
      "4. Goa: Famous for its beautiful beaches, vibrant nightlife, and Portuguese influence, Goa is a popular tourist spot for both domestic and international travelers.\n",
      "\n",
      "5. Jaipur, Rajasthan: Also known as the Pink City, Jaipur is a must-visit for its majestic forts, palaces, and rich cultural heritage.\n",
      "\n",
      "6. Varanasi, Uttar Pradesh: Considered one of the oldest cities in the world, Varanasi is famous for its spiritual significance and the Ganges river.\n",
      "\n",
      "7. Hampi, Karnataka: A UNESCO World Heritage Site, Hampi is famous for its ancient ruins, temples, and stunning landscapes.\n",
      "\n",
      "8. Darjeeling, West Bengal: Surrounded by lush green tea plantations, Darjeeling is a picturesque\n"
     ]
    }
   ],
   "source": [
    "famous_template = PromptTemplate(\n",
    "    input_variables=[\"Capital\"],\n",
    "    template=\"Suggest me some amazing places to visit in {Capital}\"\n",
    ")\n",
    "famous_chain = LLMChain(llm=llm, prompt=famous_template, output_key=\"Places\")\n",
    "print(famous_chain.run(\"India\"))"
   ],
   "metadata": {
    "collapsed": false,
    "ExecuteTime": {
     "end_time": "2024-02-14T09:17:33.918701900Z",
     "start_time": "2024-02-14T09:17:31.024023Z"
    }
   },
   "id": "43a8edbd22a5d1f2",
   "execution_count": 109
  },
  {
   "cell_type": "code",
   "outputs": [],
   "source": [
    "from langchain.chains import SequentialChain\n",
    "\n",
    "chain = SequentialChain(\n",
    "    chains=[capital_chain, famous_chain],\n",
    "    input_variables=[\"Country\"],\n",
    "    verbose=True,\n",
    "    output_variables=[\"Capital\", \"Places\"],\n",
    ")"
   ],
   "metadata": {
    "collapsed": false,
    "ExecuteTime": {
     "end_time": "2024-02-14T09:19:41.139821Z",
     "start_time": "2024-02-14T09:19:41.126229100Z"
    }
   },
   "id": "19a858d37e1210ab",
   "execution_count": 111
  },
  {
   "cell_type": "code",
   "outputs": [
    {
     "name": "stderr",
     "output_type": "stream",
     "text": [
      "D:\\Machine_Learning\\Langchain\\Langchain_One_Shot\\.venv\\lib\\site-packages\\langchain_core\\_api\\deprecation.py:117: LangChainDeprecationWarning: The function `__call__` was deprecated in LangChain 0.1.0 and will be removed in 0.2.0. Use invoke instead.\n",
      "  warn_deprecated(\n"
     ]
    },
    {
     "name": "stdout",
     "output_type": "stream",
     "text": [
      "\n",
      "\n",
      "\u001B[1m> Entering new SequentialChain chain...\u001B[0m\n",
      "\n",
      "\u001B[1m> Finished chain.\u001B[0m\n",
      "{'Country': 'Russia', 'Capital': '\\n\\nMoscow', 'Places': ', Russia:\\n\\n1. Red Square and Kremlin - The heart of Moscow and home to iconic landmarks such as St. Basil\\'s Cathedral, Lenin\\'s Mausoleum, and the Grand Kremlin Palace.\\n\\n2. Bolshoi Theatre - One of the world\\'s most renowned opera and ballet theaters, with a rich history and stunning architecture.\\n\\n3. Gorky Park - A popular recreational spot with beautiful gardens, amusement rides, and outdoor activities such as skating and biking.\\n\\n4. Moscow Metro - Known as the \"Palace of the People,\" this underground system is a must-see for its beautiful stations adorned with intricate mosaics, sculptures, and chandeliers.\\n\\n5. Cathedral of Christ the Savior - The largest Orthodox church in Russia, with a striking golden dome and impressive interior.\\n\\n6. Tretyakov Gallery - A must-visit for art lovers, this museum houses the largest collection of Russian fine art in the world.\\n\\n7. Sparrow Hills - A scenic spot with stunning views of the city, perfect for a picnic or a leisurely walk.\\n\\n8. Izmailovsky Market - This colorful market is a great place to find traditional Russian souvenirs and crafts.\\n\\n9. Kolomenskoye Park - A former royal estate with a beautiful palace,'}\n"
     ]
    }
   ],
   "source": [
    "print(chain({\"Country\": \"Russia\"}))"
   ],
   "metadata": {
    "collapsed": false,
    "ExecuteTime": {
     "end_time": "2024-02-14T09:20:34.166252100Z",
     "start_time": "2024-02-14T09:20:30.942385300Z"
    }
   },
   "id": "4d7d6928e7cb2a2a",
   "execution_count": 113
  },
  {
   "cell_type": "code",
   "outputs": [],
   "source": [
    "# Chat models with ChatOpenAI"
   ],
   "metadata": {
    "collapsed": false,
    "ExecuteTime": {
     "end_time": "2024-02-14T09:21:52.041763700Z",
     "start_time": "2024-02-14T09:21:52.022726Z"
    }
   },
   "id": "88ca98ddc6c102f7",
   "execution_count": 114
  },
  {
   "cell_type": "code",
   "outputs": [],
   "source": [
    "from langchain.chat_models import ChatOpenAI\n",
    "from langchain.schema import HumanMessage, AIMessage, SystemMessage"
   ],
   "metadata": {
    "collapsed": false,
    "ExecuteTime": {
     "end_time": "2024-02-14T09:27:16.242538800Z",
     "start_time": "2024-02-14T09:27:16.214461500Z"
    }
   },
   "id": "f03eb7835778813",
   "execution_count": 117
  },
  {
   "cell_type": "code",
   "outputs": [],
   "source": [
    "chat_llm = ChatOpenAI(temperature=0.6, model=\"gpt-3.5-turbo\")"
   ],
   "metadata": {
    "collapsed": false,
    "ExecuteTime": {
     "end_time": "2024-02-14T09:29:46.215242800Z",
     "start_time": "2024-02-14T09:29:46.189604100Z"
    }
   },
   "id": "74e8a34778c72b53",
   "execution_count": 122
  },
  {
   "cell_type": "code",
   "outputs": [
    {
     "name": "stderr",
     "output_type": "stream",
     "text": [
      "D:\\Machine_Learning\\Langchain\\Langchain_One_Shot\\.venv\\lib\\site-packages\\langchain_core\\_api\\deprecation.py:117: LangChainDeprecationWarning: The function `__call__` was deprecated in LangChain 0.1.7 and will be removed in 0.2.0. Use invoke instead.\n",
      "  warn_deprecated(\n"
     ]
    },
    {
     "data": {
      "text/plain": "AIMessage(content='1. \"Why did the AI go to comedy school? To learn how to generate laughter code!\"\\n\\n2. \"Why did the robot become a stand-up comedian? Because it couldn\\'t resist cracking a few circuits!\"\\n\\n3. \"Why did the AI cross the road? To optimize its sense of humor algorithm!\"\\n\\n4. \"Why did the computer go to therapy? It had too many unresolved byte-sized issues!\"\\n\\n5. \"What do you call a funny AI? A silicon-based comedian with a byte-sized sense of humor!\"\\n\\n6. \"Why did the AI start a podcast? To talk about its binary love life and share some gigabytes of laughter!\"\\n\\n7. \"Why don\\'t AI assistants ever get jealous? Because they know how to CTRL+ALT+DELETE negative emotions!\"\\n\\n8. \"Why did the AI start a comedy club? Because it wanted to byte the bullet and make everyone laugh!\"\\n\\n9. \"Why did the AI break up with its smartphone? It realized it was just a touch screen relationship!\"\\n\\n10. \"Why did the AI become a ventriloquist? It wanted to prove that even its jokes can be voice-activated!\"')"
     },
     "execution_count": 123,
     "metadata": {},
     "output_type": "execute_result"
    }
   ],
   "source": [
    "chat_llm([\n",
    "    SystemMessage(content=\"Your are the comedian AI assistant\"),\n",
    "    HumanMessage(content=\"Please provide some comedy punchlines on AI\")\n",
    "])"
   ],
   "metadata": {
    "collapsed": false,
    "ExecuteTime": {
     "end_time": "2024-02-14T09:32:34.386791900Z",
     "start_time": "2024-02-14T09:32:26.653143300Z"
    }
   },
   "id": "758f50606cbe27f8",
   "execution_count": 123
  },
  {
   "cell_type": "code",
   "outputs": [],
   "source": [
    "    # Prompt Template + LLM + Output Parsers"
   ],
   "metadata": {
    "collapsed": false,
    "ExecuteTime": {
     "end_time": "2024-02-14T09:35:10.398864300Z",
     "start_time": "2024-02-14T09:35:10.380382200Z"
    }
   },
   "id": "12a39cd115e068f",
   "execution_count": 124
  },
  {
   "cell_type": "code",
   "outputs": [],
   "source": [
    "from langchain.chat_models import ChatOpenAI\n",
    "from langchain.prompts.chat import ChatPromptTemplate\n",
    "from langchain.schema import BaseOutputParser"
   ],
   "metadata": {
    "collapsed": false,
    "ExecuteTime": {
     "end_time": "2024-02-14T09:38:32.681719Z",
     "start_time": "2024-02-14T09:38:32.672583400Z"
    }
   },
   "id": "3073d15558bd37a1",
   "execution_count": 126
  },
  {
   "cell_type": "code",
   "outputs": [],
   "source": [
    "class Commaseperatedoutput(BaseOutputParser):\n",
    "    def parse(self, text: str):\n",
    "        return text.strip().split(\",\")"
   ],
   "metadata": {
    "collapsed": false,
    "ExecuteTime": {
     "end_time": "2024-02-14T10:27:52.804494200Z",
     "start_time": "2024-02-14T10:27:52.773139100Z"
    }
   },
   "id": "263d6ccf1304e918",
   "execution_count": 127
  },
  {
   "cell_type": "code",
   "outputs": [],
   "source": [
    "template = \"You are a helpful assistent . When the use given any input, you should generate 5 words synonym in a comma seperated list\"\n",
    "human_template = \"{text}\"\n",
    "chatprompt = ChatPromptTemplate.from_messages([\n",
    "    (\"system\", template),\n",
    "    (\"human\", human_template),\n",
    "])"
   ],
   "metadata": {
    "collapsed": false,
    "ExecuteTime": {
     "end_time": "2024-02-14T10:33:05.243223500Z",
     "start_time": "2024-02-14T10:33:05.232177Z"
    }
   },
   "id": "7d49bd780100daf2",
   "execution_count": 128
  },
  {
   "cell_type": "code",
   "outputs": [],
   "source": [
    "chain = chatprompt | chat_llm | Commaseperatedoutput()"
   ],
   "metadata": {
    "collapsed": false,
    "ExecuteTime": {
     "end_time": "2024-02-14T10:34:38.341582100Z",
     "start_time": "2024-02-14T10:34:38.321516300Z"
    }
   },
   "id": "d4b57afded381ddd",
   "execution_count": 129
  },
  {
   "cell_type": "markdown",
   "source": [],
   "metadata": {
    "collapsed": false
   },
   "id": "1aa690f06eb5a756"
  },
  {
   "cell_type": "code",
   "outputs": [
    {
     "data": {
      "text/plain": "['actress', ' Bollywood', ' star', ' diva', ' icon']"
     },
     "execution_count": 133,
     "metadata": {},
     "output_type": "execute_result"
    }
   ],
   "source": [
    "chain.invoke({\"text\": \"Rekha\"})"
   ],
   "metadata": {
    "collapsed": false,
    "ExecuteTime": {
     "end_time": "2024-02-14T10:38:28.865642500Z",
     "start_time": "2024-02-14T10:38:27.832967400Z"
    }
   },
   "id": "d0481ff68ec4fa75",
   "execution_count": 133
  },
  {
   "cell_type": "code",
   "outputs": [],
   "source": [],
   "metadata": {
    "collapsed": false
   },
   "id": "238c504628f1a7c"
  }
 ],
 "metadata": {
  "kernelspec": {
   "display_name": "Python 3",
   "language": "python",
   "name": "python3"
  },
  "language_info": {
   "codemirror_mode": {
    "name": "ipython",
    "version": 2
   },
   "file_extension": ".py",
   "mimetype": "text/x-python",
   "name": "python",
   "nbconvert_exporter": "python",
   "pygments_lexer": "ipython2",
   "version": "2.7.6"
  }
 },
 "nbformat": 4,
 "nbformat_minor": 5
}
