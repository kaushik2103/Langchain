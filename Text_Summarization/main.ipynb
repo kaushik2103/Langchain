{
 "cells": [
  {
   "cell_type": "code",
   "execution_count": 1,
   "id": "initial_id",
   "metadata": {
    "collapsed": true,
    "ExecuteTime": {
     "end_time": "2024-02-19T10:18:41.008775300Z",
     "start_time": "2024-02-19T10:18:40.991131500Z"
    }
   },
   "outputs": [],
   "source": [
    "from constant import OPENAI_API_KEY\n",
    "import os\n",
    "\n",
    "os.environ[\"OPENAI_API_KEY\"] = OPENAI_API_KEY"
   ]
  },
  {
   "cell_type": "code",
   "outputs": [],
   "source": [
    "# Basic prompt summarization\n",
    "from langchain.chat_models import ChatOpenAI\n",
    "from langchain.schema import SystemMessage, HumanMessage, AIMessage"
   ],
   "metadata": {
    "collapsed": false,
    "ExecuteTime": {
     "end_time": "2024-02-19T10:29:01.043425400Z",
     "start_time": "2024-02-19T10:29:01.023288500Z"
    }
   },
   "id": "5f56e76c47960589",
   "execution_count": 4
  },
  {
   "cell_type": "code",
   "outputs": [],
   "source": [
    "speech = \"\"\"\n",
    "People across the country, involved in government, political, and social activities, are dedicating their time to make the ‘Viksit Bharat Sankalp Yatra’ (Developed India Resolution Journey) successful. Therefore, as a Member of Parliament, it was my responsibility to also contribute my time to this program. So, today, I have come here just as a Member of Parliament and your ‘sevak’, ready to participate in this program, much like you.\n",
    "\n",
    "In our country, governments have come and gone, numerous schemes have been formulated, discussions have taken place, and big promises have been made. However, my experience and observations led me to believe that the most critical aspect that requires attention is ensuring that the government’s plans reach the intended beneficiaries without any hassles. If there is a ‘Pradhan Mantri Awas Yojana’ (Prime Minister’s housing scheme), then those who are living in jhuggis and slums should get their houses. And he should not need to make rounds of the government offices for this purpose. The government should reach him. Since you have assigned this responsibility to me, about four crore families have got their ‘pucca’ houses. However, I have encountered cases where someone is left out of the government benefits. Therefore, I have decided to tour the country again, to listen to people’s experiences with government schemes, to understand whether they received the intended benefits, and to ensure that the programs are reaching everyone as planned without paying any bribes. We will get the real picture if we visit them again. Therefore, this ‘Viksit Bharat Sankalp Yatra’ is, in a way, my own examination. I want to hear from you and the people across the country whether what I envisioned and the work I have been doing aligns with reality and whether it has reached those for whom it was meant.\n",
    "\n",
    "It is crucial to check whether the work that was supposed to happen has indeed taken place. I recently met some individuals who utilized the Ayushman card to get treatment for serious illnesses. One person met with a severe accident, and after using the card, he could afford the necessary operation, and now he is recovering well. When I asked him, he said: “How could I afford this treatment? Now that there is the Ayushman card, I mustered courage and underwent an operation. Now I am perfectly fine.”  Such stories are blessings to me.\n",
    "\n",
    "The bureaucrats, who prepare good schemes, expedite the paperwork and even allocate funds, also feel satisfied that 50 or 100 people who were supposed to get the funds have got it. The funds meant for a thousand villages have been released. But their job satisfaction peaks when they hear that their work has directly impacted someone’s life positively. When they see the tangible results of their efforts, their enthusiasm multiplies. They feel satisfied. Therefore, ‘Viksit Bharat Sankalp Yatra’ has had a positive impact on government officers. It has made them more enthusiastic about their work, especially when they witness the tangible benefits reaching the people. Officers now feel satisfied with their work, saying, “I made a good plan, I created a file, and the intended beneficiaries received the benefits.” When they find that the money has reached a poor widow under the Jeevan Jyoti scheme and it was a great help to her during her crisis, they realise that they have done a good job. When a government officer listens to such stories, he feels very satisfied.\n",
    "\n",
    "There are very few who understand the power and impact of the ‘Viksit Bharat Sankalp Yatra’. When I hear people connected to bureaucratic circles talking about it, expressing their satisfaction, it resonates with me. I’ve heard stories where someone suddenly received 2 lakh rupees after the death of her husband, and a sister mentioned how the arrival of gas in her home transformed her lives. The most significant aspect is when someone says that the line between rich and poor has vanished. While the slogan ‘Garibi Hatao’ (Remove Poverty) is one thing, but the real change happens when a person says, “As soon as the gas stove came to my house, the distinction between poverty and affluence disappeared.\n",
    "\"\"\""
   ],
   "metadata": {
    "collapsed": false,
    "ExecuteTime": {
     "end_time": "2024-02-19T10:31:05.153364Z",
     "start_time": "2024-02-19T10:31:05.145361Z"
    }
   },
   "id": "c9a65fc0e2c569c5",
   "execution_count": 5
  },
  {
   "cell_type": "code",
   "outputs": [],
   "source": [
    "chat_messages=[\n",
    "    SystemMessage(content='You are an expert assistant with expertize in summarizing speeches. You have to summarize the speech provided in 100 words.'),\n",
    "    HumanMessage(content=f'Please provide a short and concise summary of the following speech:\\n TEXT: {speech}')\n",
    "]\n",
    "llm = ChatOpenAI(model_name=\"gpt-3.5-turbo\")"
   ],
   "metadata": {
    "collapsed": false,
    "ExecuteTime": {
     "end_time": "2024-02-19T10:36:41.220673700Z",
     "start_time": "2024-02-19T10:36:41.181679500Z"
    }
   },
   "id": "5252d1d722383bd",
   "execution_count": 18
  },
  {
   "cell_type": "code",
   "outputs": [
    {
     "data": {
      "text/plain": "866"
     },
     "execution_count": 16,
     "metadata": {},
     "output_type": "execute_result"
    }
   ],
   "source": [
    "llm.get_num_tokens(speech)"
   ],
   "metadata": {
    "collapsed": false,
    "ExecuteTime": {
     "end_time": "2024-02-19T10:36:29.152452100Z",
     "start_time": "2024-02-19T10:36:29.142892800Z"
    }
   },
   "id": "c6c586981f0e0dbe",
   "execution_count": 16
  },
  {
   "cell_type": "code",
   "outputs": [
    {
     "data": {
      "text/plain": "AIMessage(content=\"The speech emphasizes the importance of ensuring government schemes reach the intended beneficiaries smoothly. The speaker highlights their efforts in providing housing through schemes like 'Pradhan Mantri Awas Yojana' and touring the country to assess if programs are reaching everyone as planned. Success stories, like individuals benefiting from the Ayushman card, illustrate the positive impact of these initiatives. The speech also acknowledges the satisfaction of bureaucrats when they witness tangible benefits reaching the people. The 'Viksit Bharat Sankalp Yatra' is praised for motivating government officers and creating a positive impact on society.\")"
     },
     "execution_count": 20,
     "metadata": {},
     "output_type": "execute_result"
    }
   ],
   "source": [
    "llm(chat_messages)"
   ],
   "metadata": {
    "collapsed": false,
    "ExecuteTime": {
     "end_time": "2024-02-19T10:37:43.720780200Z",
     "start_time": "2024-02-19T10:37:41.378983100Z"
    }
   },
   "id": "b0b59402ff982c9a",
   "execution_count": 20
  },
  {
   "cell_type": "code",
   "outputs": [
    {
     "name": "stdout",
     "output_type": "stream",
     "text": [
      "The speech emphasizes the importance of ensuring government schemes reach the intended beneficiaries smoothly. The speaker highlights the impact of the 'Viksit Bharat Sankalp Yatra' in monitoring this process, sharing success stories like individuals benefiting from the Ayushman card. The speech emphasizes the satisfaction felt by bureaucrats when they witness the tangible impact of their work on people's lives. The yatra is portrayed as a means to bridge the gap between rich and poor, with anecdotes showcasing how simple interventions like a gas stove can transform lives and blur economic distinctions.\n"
     ]
    }
   ],
   "source": [
    "print(llm(chat_messages).content)"
   ],
   "metadata": {
    "collapsed": false,
    "ExecuteTime": {
     "end_time": "2024-02-19T10:36:45.561348700Z",
     "start_time": "2024-02-19T10:36:43.403582900Z"
    }
   },
   "id": "7dc7c9fc56a40917",
   "execution_count": 19
  },
  {
   "cell_type": "code",
   "outputs": [],
   "source": [
    "from langchain_core.prompts import PromptTemplate\n",
    "# Second Type, We are using prompt template for text summarization.\n",
    "from langchain.chains import LLMChain\n",
    "generic_template='''\n",
    "Write a summary of the following speech in 100 words: '{speech}'\n",
    "Translate the precise summary into {language}.\n",
    "'''\n",
    "prompt = PromptTemplate(\n",
    "    input_variables=[\"speech\", \"language\"],\n",
    "    template=generic_template\n",
    ")"
   ],
   "metadata": {
    "collapsed": false,
    "ExecuteTime": {
     "end_time": "2024-02-19T10:42:29.154647700Z",
     "start_time": "2024-02-19T10:42:27.824757100Z"
    }
   },
   "id": "94b3223a2c742404",
   "execution_count": 21
  },
  {
   "cell_type": "code",
   "outputs": [
    {
     "data": {
      "text/plain": "\"\\nWrite a summary of the following speech in 100 words: '\\nPeople across the country, involved in government, political, and social activities, are dedicating their time to make the ‘Viksit Bharat Sankalp Yatra’ (Developed India Resolution Journey) successful. Therefore, as a Member of Parliament, it was my responsibility to also contribute my time to this program. So, today, I have come here just as a Member of Parliament and your ‘sevak’, ready to participate in this program, much like you.\\n\\nIn our country, governments have come and gone, numerous schemes have been formulated, discussions have taken place, and big promises have been made. However, my experience and observations led me to believe that the most critical aspect that requires attention is ensuring that the government’s plans reach the intended beneficiaries without any hassles. If there is a ‘Pradhan Mantri Awas Yojana’ (Prime Minister’s housing scheme), then those who are living in jhuggis and slums should get their houses. And he should not need to make rounds of the government offices for this purpose. The government should reach him. Since you have assigned this responsibility to me, about four crore families have got their ‘pucca’ houses. However, I have encountered cases where someone is left out of the government benefits. Therefore, I have decided to tour the country again, to listen to people’s experiences with government schemes, to understand whether they received the intended benefits, and to ensure that the programs are reaching everyone as planned without paying any bribes. We will get the real picture if we visit them again. Therefore, this ‘Viksit Bharat Sankalp Yatra’ is, in a way, my own examination. I want to hear from you and the people across the country whether what I envisioned and the work I have been doing aligns with reality and whether it has reached those for whom it was meant.\\n\\nIt is crucial to check whether the work that was supposed to happen has indeed taken place. I recently met some individuals who utilized the Ayushman card to get treatment for serious illnesses. One person met with a severe accident, and after using the card, he could afford the necessary operation, and now he is recovering well. When I asked him, he said: “How could I afford this treatment? Now that there is the Ayushman card, I mustered courage and underwent an operation. Now I am perfectly fine.”  Such stories are blessings to me.\\n\\nThe bureaucrats, who prepare good schemes, expedite the paperwork and even allocate funds, also feel satisfied that 50 or 100 people who were supposed to get the funds have got it. The funds meant for a thousand villages have been released. But their job satisfaction peaks when they hear that their work has directly impacted someone’s life positively. When they see the tangible results of their efforts, their enthusiasm multiplies. They feel satisfied. Therefore, ‘Viksit Bharat Sankalp Yatra’ has had a positive impact on government officers. It has made them more enthusiastic about their work, especially when they witness the tangible benefits reaching the people. Officers now feel satisfied with their work, saying, “I made a good plan, I created a file, and the intended beneficiaries received the benefits.” When they find that the money has reached a poor widow under the Jeevan Jyoti scheme and it was a great help to her during her crisis, they realise that they have done a good job. When a government officer listens to such stories, he feels very satisfied.\\n\\nThere are very few who understand the power and impact of the ‘Viksit Bharat Sankalp Yatra’. When I hear people connected to bureaucratic circles talking about it, expressing their satisfaction, it resonates with me. I’ve heard stories where someone suddenly received 2 lakh rupees after the death of her husband, and a sister mentioned how the arrival of gas in her home transformed her lives. The most significant aspect is when someone says that the line between rich and poor has vanished. While the slogan ‘Garibi Hatao’ (Remove Poverty) is one thing, but the real change happens when a person says, “As soon as the gas stove came to my house, the distinction between poverty and affluence disappeared.\\n'\\nTranslate the precise summary into Hindi.\\n\""
     },
     "execution_count": 22,
     "metadata": {},
     "output_type": "execute_result"
    }
   ],
   "source": [
    "prompt.format(speech=speech, language=\"Hindi\")"
   ],
   "metadata": {
    "collapsed": false,
    "ExecuteTime": {
     "end_time": "2024-02-19T10:43:30.765980300Z",
     "start_time": "2024-02-19T10:43:30.752907200Z"
    }
   },
   "id": "b6a29529bfc0b952",
   "execution_count": 22
  },
  {
   "cell_type": "code",
   "outputs": [],
   "source": [
    "complete_prompt = prompt.format(speech=speech, language=\"Hindi\")"
   ],
   "metadata": {
    "collapsed": false,
    "ExecuteTime": {
     "end_time": "2024-02-19T10:44:36.732381700Z",
     "start_time": "2024-02-19T10:44:36.706580800Z"
    }
   },
   "id": "7c0e6b805e93b9b9",
   "execution_count": 24
  },
  {
   "cell_type": "markdown",
   "source": [],
   "metadata": {
    "collapsed": false
   },
   "id": "6b4d22f93a0e6d2"
  },
  {
   "cell_type": "code",
   "outputs": [
    {
     "data": {
      "text/plain": "887"
     },
     "execution_count": 25,
     "metadata": {},
     "output_type": "execute_result"
    }
   ],
   "source": [
    "llm.get_num_tokens(complete_prompt)"
   ],
   "metadata": {
    "collapsed": false,
    "ExecuteTime": {
     "end_time": "2024-02-19T10:44:40.276815800Z",
     "start_time": "2024-02-19T10:44:40.263818400Z"
    }
   },
   "id": "af752c82fcc1a769",
   "execution_count": 25
  },
  {
   "cell_type": "code",
   "outputs": [],
   "source": [
    "chain = LLMChain(llm=llm, prompt=prompt)"
   ],
   "metadata": {
    "collapsed": false,
    "ExecuteTime": {
     "end_time": "2024-02-19T10:45:07.969021300Z",
     "start_time": "2024-02-19T10:45:07.946582300Z"
    }
   },
   "id": "5fd9f09b372ab3b",
   "execution_count": 26
  },
  {
   "cell_type": "code",
   "outputs": [
    {
     "data": {
      "text/plain": "\"देशभर में सरकार, राजनीतिक और सामाजिक क्रियाओं में शामिल लोग ‘विकसित भारत संकल्प यात्रा’ को सफल बनाने के लिए अपना समय समर्पित कर रहे हैं। इसलिए, संसद के सदस्य के रूप में, मेरा इस कार्यक्रम में योगदान देना मेरी जिम्मेदारी थी। मैं आज यहाँ सिर्फ संसद के सदस्य और आपका सेवक के रूप में आया हूं, इस प्रोग्राम में भाग लेने के लिए तैयार, जैसे की आप। मेरे अनुभव और अवलोकन ने मुझे यह महत्वपूर्ण बात समझाया है कि सरकार की योजनाएं इच्छित लाभार्थियों तक बिना किसी परेशानी के पहुंचे। \\n\\nसरकार को उसके पास पहुंचना चाहिए। आपने मुझे इस जिम्मेदारी का निर्धारण किया है, लगभग चार करोड़ परिवारों को उनके पक्के मकान मिल गए हैं। हालांकि, मैंने ऐसे मामले देखे हैं जहां किसी को सरकारी लाभ से वंचित छोड़ दिया गया है। इसलिए, मैंने फिर से देश भर में यात्रा करने का निर्णय लिया है, लोगों की सरकारी योजनाओं के साथ की अनुभवों को सुनने के लिए, समझने के लिए कि क्या वे इच्छित लाभ प्राप्त कर रहे हैं, और यह सुनिश्चित करने के लिए कि कार्यक्रम सभी योजनाएं जैसा कि योजनित है किसी भी रिश्वत के बिना पहुंच रहा है। हम अगर फिर से उनसे मिलते हैं तो वास्तविक चित्र मिलेगा। \\n\\nइसलिए, 'विकसित भारत संकल्प यात्रा' मेरी खुद की परीक्षा है। मैं आपसे और पूरे देश के लोगों से सुनना चाहता हूं कि मैंने क्या सोचा था और मैंने जो काम किया है, क्या वास्तविकता के साथ मेल खाता है और क्या यह उन लोगों तक पहुंचा है जिनके लिए यह था।\""
     },
     "execution_count": 29,
     "metadata": {},
     "output_type": "execute_result"
    }
   ],
   "source": [
    "summary = chain.run({\"speech\": speech, \"language\": \"Hindi\"})\n",
    "summary"
   ],
   "metadata": {
    "collapsed": false,
    "ExecuteTime": {
     "end_time": "2024-02-19T10:46:51.342001300Z",
     "start_time": "2024-02-19T10:46:28.762685800Z"
    }
   },
   "id": "44aad016e030f4ec",
   "execution_count": 29
  },
  {
   "cell_type": "code",
   "outputs": [],
   "source": [],
   "metadata": {
    "collapsed": false,
    "ExecuteTime": {
     "end_time": "2024-02-19T10:48:28.735291900Z",
     "start_time": "2024-02-19T10:48:28.714251200Z"
    }
   },
   "id": "aa239d88b74b5aed",
   "execution_count": 29
  },
  {
   "cell_type": "code",
   "outputs": [],
   "source": [],
   "metadata": {
    "collapsed": false
   },
   "id": "77bd4c66977dcd0d"
  }
 ],
 "metadata": {
  "kernelspec": {
   "display_name": "Python 3",
   "language": "python",
   "name": "python3"
  },
  "language_info": {
   "codemirror_mode": {
    "name": "ipython",
    "version": 2
   },
   "file_extension": ".py",
   "mimetype": "text/x-python",
   "name": "python",
   "nbconvert_exporter": "python",
   "pygments_lexer": "ipython2",
   "version": "2.7.6"
  }
 },
 "nbformat": 4,
 "nbformat_minor": 5
}
